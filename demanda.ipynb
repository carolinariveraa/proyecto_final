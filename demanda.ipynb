{
 "cells": [
  {
   "cell_type": "code",
   "execution_count": null,
   "metadata": {},
   "outputs": [],
   "source": []
  },
  {
   "cell_type": "code",
   "execution_count": null,
   "metadata": {},
   "outputs": [],
   "source": [
    "GET /{lang}/datos/{category}/{widget}?[query]"
   ]
  },
  {
   "cell_type": "code",
   "execution_count": null,
   "metadata": {},
   "outputs": [],
   "source": [
    "Accept: application/json;\n",
    "Content-Type: application/json\n",
    "Host: apidatos.ree.es"
   ]
  },
  {
   "cell_type": "code",
   "execution_count": null,
   "metadata": {},
   "outputs": [],
   "source": [
    "https://apidatos.ree.es/en/datos/demanda/"
   ]
  },
  {
   "cell_type": "code",
   "execution_count": null,
   "metadata": {},
   "outputs": [],
   "source": [
    "https://apidatos.ree.es/es/datos/demanda/evolucion?start_date=2014-01-01T00:00&end_date=2023-05-30T23:59&time_trunc=day&geo_trunc=electric_system"
   ]
  },
  {
   "cell_type": "code",
   "execution_count": null,
   "metadata": {},
   "outputs": [],
   "source": [
    "https://apidatos.ree.es/es/datos/generacion/maxima-renovable-historico?start_date=2014-01-01T00:00&end_date=2023-05-30T23:59&time_trunc=day&geo_trunc=electric_system"
   ]
  },
  {
   "attachments": {},
   "cell_type": "markdown",
   "metadata": {},
   "source": [
    "https://www.ree.es/es/datos/demanda"
   ]
  },
  {
   "cell_type": "code",
   "execution_count": null,
   "metadata": {},
   "outputs": [],
   "source": [
    "https://apidatos.ree.es/es/datos/generacion/estructura-generacion?start_date=2022-05-30T00:00&end_date=2023-05-30T23:59&time_trunc=day&geo_trunc=electric_system&geo_limit=peninsular&geo_ids=8741"
   ]
  },
  {
   "attachments": {},
   "cell_type": "markdown",
   "metadata": {},
   "source": []
  }
 ],
 "metadata": {
  "language_info": {
   "name": "python"
  },
  "orig_nbformat": 4
 },
 "nbformat": 4,
 "nbformat_minor": 2
}
