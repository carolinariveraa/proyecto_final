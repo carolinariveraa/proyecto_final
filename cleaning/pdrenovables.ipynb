{
 "cells": [
  {
   "attachments": {},
   "cell_type": "markdown",
   "metadata": {},
   "source": [
    "Importar Librerias"
   ]
  },
  {
   "cell_type": "code",
   "execution_count": 2,
   "metadata": {},
   "outputs": [],
   "source": [
    "import pandas as pd\n",
    "\n",
    "pd.set_option('display.max_columns', None)\n"
   ]
  },
  {
   "attachments": {},
   "cell_type": "markdown",
   "metadata": {},
   "source": [
    "Lectura de archivos"
   ]
  },
  {
   "cell_type": "code",
   "execution_count": 5,
   "metadata": {},
   "outputs": [],
   "source": [
    "gen2018 = pd.read_csv('../data_generacion/estructura-generacion_2018.csv', encoding='latin1').T\n",
    "gen2019 = pd.read_csv('../data_generacion/estructura-generacion_2019.csv', encoding='latin1').T\n",
    "gen2020 = pd.read_csv('../data_generacion/estructura-generacion_2020.csv', encoding='latin1').T\n",
    "gen2021 = pd.read_csv('../data_generacion/estructura-generacion_2021.csv', encoding='latin1').T\n",
    "gen2022 = pd.read_csv('../data_generacion/estructura-generacion_2022.csv', encoding='latin1').T\n",
    "gen2023 = pd.read_csv('../data_generacion/estructura-generacion_2023.csv', encoding='latin1').T"
   ]
  },
  {
   "attachments": {},
   "cell_type": "markdown",
   "metadata": {},
   "source": [
    "El objetivo es obtener un dataframe solamente con la generación de energías renovables, incluye hidráulica, hidroeólica, eólica, solar fotovoltaica, solar térmica, otras renovables y residuos renovables."
   ]
  },
  {
   "cell_type": "code",
   "execution_count": 21,
   "metadata": {},
   "outputs": [],
   "source": [
    "# Función para limpiar el dataframe\n",
    "\n",
    "import pandas as pd\n",
    "\n",
    "def limpiar_dataframe(df):\n",
    "    # Copiar el DataFrame para evitar modificar el original\n",
    "    df_limpiado = df.copy()\n",
    "\n",
    "    # Establecer los nombres de columna a partir de la primera fila y eliminar esa fila\n",
    "    df_limpiado.columns = df_limpiado.iloc[0]\n",
    "    df_limpiado = df_limpiado.drop(df_limpiado.index[0])\n",
    "\n",
    "    # Contar los valores nulos en cada columna\n",
    "    num_nulls = df_limpiado.isnull().sum()\n",
    "\n",
    "    # Obtener las columnas con más de 10 valores nulos\n",
    "    columns_to_drop = num_nulls[num_nulls > 10].index\n",
    "\n",
    "    # Eliminar las columnas del DataFrame\n",
    "    df_limpiado = df_limpiado.drop(columns_to_drop, axis=1)\n",
    "\n",
    "    # Quitarle el título a la columna\n",
    "    df_limpiado.columns.name = None\n",
    "\n",
    "    # Seleccionar las columnas deseadas\n",
    "    columnas_deseadas = ['Fecha', 'Hidráulica', 'Hidroeólica', 'Eólica', 'Solar fotovoltaica', 'Solar térmica', 'Otras renovables', 'Residuos renovables']\n",
    "    df_limpiado = df_limpiado.loc[:, columnas_deseadas]\n",
    "\n",
    "    # Lista de columnas a modificar\n",
    "    columnas = ['Hidráulica', 'Hidroeólica', 'Eólica', 'Solar fotovoltaica', 'Solar térmica', 'Otras renovables', 'Residuos renovables']\n",
    "\n",
    "    # Reemplazar la coma por un punto y convertir a tipo float\n",
    "    for columna in columnas:\n",
    "        df_limpiado[columna] = df_limpiado[columna].str.replace(',', '.').astype(float)\n",
    "\n",
    "    # Resetear el índice\n",
    "    df_limpiado = df_limpiado.reset_index(drop=True)\n",
    "\n",
    "    return df_limpiado\n",
    "\n"
   ]
  },
  {
   "attachments": {},
   "cell_type": "markdown",
   "metadata": {},
   "source": [
    "Limpio todos los dfs para quedame con las renovables"
   ]
  },
  {
   "cell_type": "code",
   "execution_count": 28,
   "metadata": {},
   "outputs": [],
   "source": [
    "#gen2014Ren = limpiar_dataframe(gen2014)\n",
    "#gen2015Ren = limpiar_dataframe(gen2015)\n",
    "#gen2016Ren = limpiar_dataframe(gen2016)\n",
    "#gen2017Ren = limpiar_dataframe(gen2017)\n",
    "#gen2018Ren = limpiar_dataframe(gen2018)\n",
    "#gen2019Ren = limpiar_dataframe(gen2019)\n",
    "\n",
    "\n",
    "gen2020Ren = limpiar_dataframe(gen2020)\n",
    "gen2021Ren = limpiar_dataframe(gen2021)\n",
    "gen2022Ren = limpiar_dataframe(gen2022)\n",
    "gen2023Ren = limpiar_dataframe(gen2023)\n",
    "\n",
    "\n",
    "renovables = pd.concat([gen2020Ren, gen2021Ren, gen2022Ren, gen2023Ren], ignore_index=True)\n"
   ]
  },
  {
   "cell_type": "code",
   "execution_count": 30,
   "metadata": {},
   "outputs": [],
   "source": [
    "#renovables.to_csv('renovables.csv')"
   ]
  },
  {
   "cell_type": "code",
   "execution_count": null,
   "metadata": {},
   "outputs": [],
   "source": []
  }
 ],
 "metadata": {
  "kernelspec": {
   "display_name": "ML",
   "language": "python",
   "name": "python3"
  },
  "language_info": {
   "codemirror_mode": {
    "name": "ipython",
    "version": 3
   },
   "file_extension": ".py",
   "mimetype": "text/x-python",
   "name": "python",
   "nbconvert_exporter": "python",
   "pygments_lexer": "ipython3",
   "version": "3.10.10"
  },
  "orig_nbformat": 4
 },
 "nbformat": 4,
 "nbformat_minor": 2
}
