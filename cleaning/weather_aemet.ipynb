{
 "cells": [
  {
   "attachments": {},
   "cell_type": "markdown",
   "metadata": {},
   "source": [
    "El poco peso de las energías renovables en el precio final de la luz: al igual que el gas es una de las materias primas para la generación de electricidad más caras, las energías renovables son de las más baratas. Por tanto, si no hay suficiente lluvia o viento como para que esta forma de energía tenga el peso suficiente en la fijación del precio, el pool energético dependerá más de los ciclos combinados y, como consecuencia, el precio de la luz subirá.\n",
    "\n",
    "Este es el caso de España, que tiene una gran dependencia energética de las importaciones de otros países, ya que no tenemos la capacidad de autoabastecernos de energía renovable por el momento."
   ]
  },
  {
   "attachments": {},
   "cell_type": "markdown",
   "metadata": {},
   "source": [
    "## Viento"
   ]
  },
  {
   "attachments": {},
   "cell_type": "markdown",
   "metadata": {},
   "source": [
    "En España, hay grandes diferencias entre comunidades autónomas en cuanto a producción de energía a través de los parques eólicos. La comunidad que más produce y que, por tanto, más parques eólicos alberga en su territorio es Castilla y León. Esta comunidad produce hasta 6.299,81 MW y supone hasta el 23% de la producción nacional. Le siguen:\n",
    "\n",
    "- Aragón: 4.159,25 MW, siendo el 15,2% de la producción nacional\n",
    "- Castilla-La Mancha: 3.886,14MW (14,2%)\n",
    "- Galicia: 3.829,19 MW (14%)\n",
    "- Andalucía: 3.478,45 MW (12,7%)"
   ]
  },
  {
   "attachments": {},
   "cell_type": "markdown",
   "metadata": {},
   "source": [
    "## Temperatura"
   ]
  },
  {
   "attachments": {},
   "cell_type": "markdown",
   "metadata": {},
   "source": [
    "Se crea un índice de temperaturas español (ܶ݁݉expresado en grados centígrados) de las temperaturas medias diarias de las cinco ciudades más pobladas de España, ya que son las que más pueden hacer variar la demanda energética.\n",
    "\n",
    "- Madrid\n",
    "- Barcelona\n",
    "- Valencia\n",
    "- Sevilla\n",
    "- Zaragoza\n"
   ]
  }
 ],
 "metadata": {
  "kernelspec": {
   "display_name": "ML",
   "language": "python",
   "name": "python3"
  },
  "language_info": {
   "codemirror_mode": {
    "name": "ipython",
    "version": 3
   },
   "file_extension": ".py",
   "mimetype": "text/x-python",
   "name": "python",
   "nbconvert_exporter": "python",
   "pygments_lexer": "ipython3",
   "version": "3.10.10"
  },
  "orig_nbformat": 4
 },
 "nbformat": 4,
 "nbformat_minor": 2
}
