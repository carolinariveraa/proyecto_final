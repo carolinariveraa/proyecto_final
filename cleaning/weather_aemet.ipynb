{
 "cells": [
  {
   "attachments": {},
   "cell_type": "markdown",
   "metadata": {},
   "source": [
    "El poco peso de las energías renovables en el precio final de la luz: al igual que el gas es una de las materias primas para la generación de electricidad más caras, las energías renovables son de las más baratas. Por tanto, si no hay suficiente lluvia o viento como para que esta forma de energía tenga el peso suficiente en la fijación del precio, el pool energético dependerá más de los ciclos combinados y, como consecuencia, el precio de la luz subirá.\n",
    "\n",
    "Este es el caso de España, que tiene una gran dependencia energética de las importaciones de otros países, ya que no tenemos la capacidad de autoabastecernos de energía renovable por el momento."
   ]
  },
  {
   "attachments": {},
   "cell_type": "markdown",
   "metadata": {},
   "source": [
    "## Viento"
   ]
  },
  {
   "attachments": {},
   "cell_type": "markdown",
   "metadata": {},
   "source": [
    "En España, hay grandes diferencias entre comunidades autónomas en cuanto a producción de energía a través de los parques eólicos. La comunidad que más produce y que, por tanto, más parques eólicos alberga en su territorio es Castilla y León. Esta comunidad produce hasta 6.299,81 MW y supone hasta el 23% de la producción nacional. Le siguen:\n",
    "\n",
    "- Aragón: 4.159,25 MW, siendo el 15,2% de la producción nacional\n",
    "- Castilla-La Mancha: 3.886,14MW (14,2%)\n",
    "- Galicia: 3.829,19 MW (14%)\n",
    "- Andalucía: 3.478,45 MW (12,7%)"
   ]
  },
  {
   "attachments": {},
   "cell_type": "markdown",
   "metadata": {},
   "source": [
    "## Temperatura"
   ]
  },
  {
   "attachments": {},
   "cell_type": "markdown",
   "metadata": {},
   "source": [
    "Se crea un índice de temperaturas español (ܶ݁݉expresado en grados centígrados) de las temperaturas medias diarias de las cinco ciudades más pobladas de España, ya que son las que más pueden hacer variar la demanda energética.\n",
    "\n",
    "- Madrid\n",
    "- Barcelona\n",
    "- Valencia\n",
    "- Sevilla\n",
    "- Zaragoza\n"
   ]
  },
  {
   "cell_type": "code",
   "execution_count": null,
   "metadata": {},
   "outputs": [],
   "source": []
  },
  {
   "attachments": {},
   "cell_type": "markdown",
   "metadata": {},
   "source": [
    "tomorrow.io"
   ]
  },
  {
   "attachments": {},
   "cell_type": "markdown",
   "metadata": {},
   "source": []
  },
  {
   "cell_type": "code",
   "execution_count": 3,
   "metadata": {},
   "outputs": [],
   "source": [
    "import pandas as pd"
   ]
  },
  {
   "cell_type": "code",
   "execution_count": 4,
   "metadata": {},
   "outputs": [
    {
     "data": {
      "text/html": [
       "<div>\n",
       "<style scoped>\n",
       "    .dataframe tbody tr th:only-of-type {\n",
       "        vertical-align: middle;\n",
       "    }\n",
       "\n",
       "    .dataframe tbody tr th {\n",
       "        vertical-align: top;\n",
       "    }\n",
       "\n",
       "    .dataframe thead th {\n",
       "        text-align: right;\n",
       "    }\n",
       "</style>\n",
       "<table border=\"1\" class=\"dataframe\">\n",
       "  <thead>\n",
       "    <tr style=\"text-align: right;\">\n",
       "      <th></th>\n",
       "      <th>Fecha</th>\n",
       "      <th>Salida de sol</th>\n",
       "      <th>Puesta de sol</th>\n",
       "      <th>Duración del día</th>\n",
       "    </tr>\n",
       "  </thead>\n",
       "  <tbody>\n",
       "    <tr>\n",
       "      <th>0</th>\n",
       "      <td>01/01/2023</td>\n",
       "      <td>08:44:33 AM</td>\n",
       "      <td>06:11:19 PM</td>\n",
       "      <td>9h 26m 46s</td>\n",
       "    </tr>\n",
       "    <tr>\n",
       "      <th>1</th>\n",
       "      <td>01/02/2023</td>\n",
       "      <td>08:31:17 AM</td>\n",
       "      <td>06:44:25 PM</td>\n",
       "      <td>10h 13m 8s</td>\n",
       "    </tr>\n",
       "    <tr>\n",
       "      <th>2</th>\n",
       "      <td>01/03/2023</td>\n",
       "      <td>07:56:37 AM</td>\n",
       "      <td>07:16:27 PM</td>\n",
       "      <td>11h 19m 50s</td>\n",
       "    </tr>\n",
       "    <tr>\n",
       "      <th>3</th>\n",
       "      <td>01/04/2023</td>\n",
       "      <td>08:08:02 AM</td>\n",
       "      <td>08:48:07 PM</td>\n",
       "      <td>12h 40m 5s</td>\n",
       "    </tr>\n",
       "    <tr>\n",
       "      <th>4</th>\n",
       "      <td>01/05/2023</td>\n",
       "      <td>07:24:51 AM</td>\n",
       "      <td>09:17:51 PM</td>\n",
       "      <td>13h 53m 0s</td>\n",
       "    </tr>\n",
       "    <tr>\n",
       "      <th>5</th>\n",
       "      <td>31/05/2023</td>\n",
       "      <td>06:59:15 AM</td>\n",
       "      <td>09:44:45 PM</td>\n",
       "      <td>14h 45m 30s</td>\n",
       "    </tr>\n",
       "    <tr>\n",
       "      <th>6</th>\n",
       "      <td>01/06/2023</td>\n",
       "      <td>06:58:50 AM</td>\n",
       "      <td>09:45:28 PM</td>\n",
       "      <td>14h 46m 38s</td>\n",
       "    </tr>\n",
       "    <tr>\n",
       "      <th>7</th>\n",
       "      <td>01/07/2023</td>\n",
       "      <td>07:00:53 AM</td>\n",
       "      <td>09:55:31 PM</td>\n",
       "      <td>14h 54m 38s</td>\n",
       "    </tr>\n",
       "    <tr>\n",
       "      <th>8</th>\n",
       "      <td>01/08/2023</td>\n",
       "      <td>07:24:05 AM</td>\n",
       "      <td>09:37:08 PM</td>\n",
       "      <td>14h 13m 3s</td>\n",
       "    </tr>\n",
       "    <tr>\n",
       "      <th>9</th>\n",
       "      <td>01/09/2023</td>\n",
       "      <td>07:52:46 AM</td>\n",
       "      <td>08:55:39 PM</td>\n",
       "      <td>13h 2m 53s</td>\n",
       "    </tr>\n",
       "    <tr>\n",
       "      <th>10</th>\n",
       "      <td>01/10/2023</td>\n",
       "      <td>08:20:34 AM</td>\n",
       "      <td>08:07:10 PM</td>\n",
       "      <td>11h 46m 36s</td>\n",
       "    </tr>\n",
       "    <tr>\n",
       "      <th>11</th>\n",
       "      <td>01/11/2023</td>\n",
       "      <td>07:52:43 AM</td>\n",
       "      <td>06:22:58 PM</td>\n",
       "      <td>10h 30m 15s</td>\n",
       "    </tr>\n",
       "    <tr>\n",
       "      <th>12</th>\n",
       "      <td>01/12/2023</td>\n",
       "      <td>08:25:37 AM</td>\n",
       "      <td>06:01:07 PM</td>\n",
       "      <td>9h 35m 30s</td>\n",
       "    </tr>\n",
       "  </tbody>\n",
       "</table>\n",
       "</div>"
      ],
      "text/plain": [
       "         Fecha Salida de sol Puesta de sol Duración del día\n",
       "0   01/01/2023   08:44:33 AM   06:11:19 PM       9h 26m 46s\n",
       "1   01/02/2023   08:31:17 AM   06:44:25 PM       10h 13m 8s\n",
       "2   01/03/2023   07:56:37 AM   07:16:27 PM      11h 19m 50s\n",
       "3   01/04/2023   08:08:02 AM   08:48:07 PM       12h 40m 5s\n",
       "4   01/05/2023   07:24:51 AM   09:17:51 PM       13h 53m 0s\n",
       "5   31/05/2023   06:59:15 AM   09:44:45 PM      14h 45m 30s\n",
       "6   01/06/2023   06:58:50 AM   09:45:28 PM      14h 46m 38s\n",
       "7   01/07/2023   07:00:53 AM   09:55:31 PM      14h 54m 38s\n",
       "8   01/08/2023   07:24:05 AM   09:37:08 PM       14h 13m 3s\n",
       "9   01/09/2023   07:52:46 AM   08:55:39 PM       13h 2m 53s\n",
       "10  01/10/2023   08:20:34 AM   08:07:10 PM      11h 46m 36s\n",
       "11  01/11/2023   07:52:43 AM   06:22:58 PM      10h 30m 15s\n",
       "12  01/12/2023   08:25:37 AM   06:01:07 PM       9h 35m 30s"
      ]
     },
     "execution_count": 4,
     "metadata": {},
     "output_type": "execute_result"
    }
   ],
   "source": [
    "pd.read_clipboard()"
   ]
  }
 ],
 "metadata": {
  "kernelspec": {
   "display_name": "ML",
   "language": "python",
   "name": "python3"
  },
  "language_info": {
   "codemirror_mode": {
    "name": "ipython",
    "version": 3
   },
   "file_extension": ".py",
   "mimetype": "text/x-python",
   "name": "python",
   "nbconvert_exporter": "python",
   "pygments_lexer": "ipython3",
   "version": "3.10.10"
  },
  "orig_nbformat": 4
 },
 "nbformat": 4,
 "nbformat_minor": 2
}
